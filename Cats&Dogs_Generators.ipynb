{
  "nbformat": 4,
  "nbformat_minor": 0,
  "metadata": {
    "colab": {
      "name": "Cats&Dogs_Generators.ipynb",
      "provenance": []
    },
    "kernelspec": {
      "name": "python3",
      "display_name": "Python 3"
    },
    "accelerator": "GPU"
  },
  "cells": [
    {
      "cell_type": "code",
      "metadata": {
        "id": "LJAbyYl4qHOw"
      },
      "source": [
        "import tensorflow as tf\n",
        "from tensorflow.keras.models import Sequential\n",
        "from tensorflow.keras import layers\n",
        "from tensorflow.keras.layers import Dense, Conv2D, Flatten, Dropout, MaxPooling2D\n",
        "from tensorflow.keras.preprocessing.image import ImageDataGenerator\n",
        "import matplotlib.pyplot as plt\n",
        "import os\n",
        "import numpy as np"
      ],
      "execution_count": 1,
      "outputs": []
    },
    {
      "cell_type": "code",
      "metadata": {
        "id": "ObLWqsAPro6P",
        "colab": {
          "base_uri": "https://localhost:8080/"
        },
        "outputId": "b63e0d52-9ea0-445c-e595-5b295d9631b2"
      },
      "source": [
        "url = \"https://storage.googleapis.com/mledu-datasets/cats_and_dogs_filtered.zip\"\n",
        "path_zip = tf.keras.utils.get_file(\"cats_and_dogs_filtered.zip\", origin=url, extract=True)\n",
        "path = os.path.join(os.path.dirname(path_zip), \"cats_and_dogs_filtered\")"
      ],
      "execution_count": 2,
      "outputs": [
        {
          "output_type": "stream",
          "text": [
            "Downloading data from https://storage.googleapis.com/mledu-datasets/cats_and_dogs_filtered.zip\n",
            "68608000/68606236 [==============================] - 1s 0us/step\n"
          ],
          "name": "stdout"
        }
      ]
    },
    {
      "cell_type": "code",
      "metadata": {
        "id": "vcqFkLhnsjOB"
      },
      "source": [
        "#train and validation data\n",
        "train_dir = os.path.join(path, \"train\")\n",
        "validation_dir = os.path.join(path, \"validation\")\n",
        "\n",
        "#joining cats and dogs data from train and validation folders\n",
        "train_cats_dir = os.path.join(train_dir, \"cats\")\n",
        "train_dogs_dir = os.path.join(train_dir, \"dogs\")\n",
        "\n",
        "validation_cats_dir = os.path.join(validation_dir, \"cats\")\n",
        "validation_dogs_dir = os.path.join(validation_dir, \"dogs\")"
      ],
      "execution_count": 3,
      "outputs": []
    },
    {
      "cell_type": "code",
      "metadata": {
        "id": "r0VOZEiJwOVa",
        "colab": {
          "base_uri": "https://localhost:8080/"
        },
        "outputId": "af536033-39e1-4b29-b99b-728915db7511"
      },
      "source": [
        "len(os.listdir(validation_cats_dir))"
      ],
      "execution_count": 4,
      "outputs": [
        {
          "output_type": "execute_result",
          "data": {
            "text/plain": [
              "500"
            ]
          },
          "metadata": {
            "tags": []
          },
          "execution_count": 4
        }
      ]
    },
    {
      "cell_type": "code",
      "metadata": {
        "id": "j_sZwOeFJx14",
        "colab": {
          "base_uri": "https://localhost:8080/",
          "height": 35
        },
        "outputId": "205d0396-2dcc-4a0b-b5c6-2ff721e3bc67"
      },
      "source": [
        "train_dir[1]"
      ],
      "execution_count": 5,
      "outputs": [
        {
          "output_type": "execute_result",
          "data": {
            "application/vnd.google.colaboratory.intrinsic+json": {
              "type": "string"
            },
            "text/plain": [
              "'r'"
            ]
          },
          "metadata": {
            "tags": []
          },
          "execution_count": 5
        }
      ]
    },
    {
      "cell_type": "code",
      "metadata": {
        "id": "Hhny5D_awmmf"
      },
      "source": [
        "batch_size = 20\n",
        "epochs = 10\n",
        "img_height = 150\n",
        "img_width = 150\n"
      ],
      "execution_count": 6,
      "outputs": []
    },
    {
      "cell_type": "code",
      "metadata": {
        "id": "599Tpehtxv7H",
        "colab": {
          "base_uri": "https://localhost:8080/"
        },
        "outputId": "e8a9b6ae-9c4c-4b57-a719-c70e7917d2d5"
      },
      "source": [
        "#Process:\n",
        "\n",
        "'''\n",
        "\n",
        "1. Read images\n",
        "2. Decode > R, G, B\n",
        "3. Convert tensor objects\n",
        "4. Rescale 0-255\n",
        "Image > Width, Height, Channel=3\n",
        "\n",
        "'''\n",
        "\n",
        "train_image_generator = ImageDataGenerator(1./255)\n",
        "validation_image_generator = ImageDataGenerator(1./255)\n",
        "\n",
        "train_data_gen = train_image_generator.flow_from_directory(batch_size=batch_size, directory = train_dir,\n",
        "                                                           shuffle = True, target_size =(img_height, img_width), class_mode = 'binary')\n",
        "\n",
        "validation_data_gen = validation_image_generator.flow_from_directory(batch_size=batch_size, directory = validation_dir,\n",
        "                                                                     shuffle = True, target_size = (img_height, img_width), class_mode = 'binary')"
      ],
      "execution_count": 7,
      "outputs": [
        {
          "output_type": "stream",
          "text": [
            "Found 2000 images belonging to 2 classes.\n",
            "Found 1000 images belonging to 2 classes.\n"
          ],
          "name": "stdout"
        }
      ]
    },
    {
      "cell_type": "code",
      "metadata": {
        "id": "FFiA1S01VEty",
        "colab": {
          "base_uri": "https://localhost:8080/"
        },
        "outputId": "61b2fe31-b0e9-4692-9dd1-43cc6c1b129c"
      },
      "source": [
        "len(train_dir)"
      ],
      "execution_count": 8,
      "outputs": [
        {
          "output_type": "execute_result",
          "data": {
            "text/plain": [
              "50"
            ]
          },
          "metadata": {
            "tags": []
          },
          "execution_count": 8
        }
      ]
    },
    {
      "cell_type": "code",
      "metadata": {
        "id": "vRf1x2tuVHFd"
      },
      "source": [
        ""
      ],
      "execution_count": 8,
      "outputs": []
    },
    {
      "cell_type": "code",
      "metadata": {
        "id": "x4PMuhJHxFiK"
      },
      "source": [
        "model = Sequential()\n",
        "model.add(layers.Conv2D(32,(3, 3), activation=\"relu\", input_shape = (150, 150, 3)))\n",
        "model.add(layers.MaxPooling2D(2, 2))\n",
        "model.add(layers.Conv2D(64, (3, 3), activation=\"relu\"))\n",
        "model.add(layers.MaxPooling2D(2, 2))\n",
        "model.add(layers.Conv2D(128, (3,3), activation=\"relu\"))\n",
        "model.add(layers.MaxPooling2D(2, 2))\n",
        "model.add(layers.Conv2D(128, (3, 3), activation=\"relu\"))\n",
        "model.add(layers.MaxPooling2D(2, 2))\n",
        "model.add(layers.Flatten())\n",
        "model.add(layers.Dense(512, activation=\"relu\"))\n",
        "model.add(layers.Dense(1, activation=\"sigmoid\"))"
      ],
      "execution_count": 9,
      "outputs": []
    },
    {
      "cell_type": "code",
      "metadata": {
        "id": "flWMwm4D5w4b",
        "colab": {
          "base_uri": "https://localhost:8080/"
        },
        "outputId": "d5c466dd-a361-45af-a199-ab81e4db0088"
      },
      "source": [
        "model.summary()"
      ],
      "execution_count": 10,
      "outputs": [
        {
          "output_type": "stream",
          "text": [
            "Model: \"sequential\"\n",
            "_________________________________________________________________\n",
            "Layer (type)                 Output Shape              Param #   \n",
            "=================================================================\n",
            "conv2d (Conv2D)              (None, 148, 148, 32)      896       \n",
            "_________________________________________________________________\n",
            "max_pooling2d (MaxPooling2D) (None, 74, 74, 32)        0         \n",
            "_________________________________________________________________\n",
            "conv2d_1 (Conv2D)            (None, 72, 72, 64)        18496     \n",
            "_________________________________________________________________\n",
            "max_pooling2d_1 (MaxPooling2 (None, 36, 36, 64)        0         \n",
            "_________________________________________________________________\n",
            "conv2d_2 (Conv2D)            (None, 34, 34, 128)       73856     \n",
            "_________________________________________________________________\n",
            "max_pooling2d_2 (MaxPooling2 (None, 17, 17, 128)       0         \n",
            "_________________________________________________________________\n",
            "conv2d_3 (Conv2D)            (None, 15, 15, 128)       147584    \n",
            "_________________________________________________________________\n",
            "max_pooling2d_3 (MaxPooling2 (None, 7, 7, 128)         0         \n",
            "_________________________________________________________________\n",
            "flatten (Flatten)            (None, 6272)              0         \n",
            "_________________________________________________________________\n",
            "dense (Dense)                (None, 512)               3211776   \n",
            "_________________________________________________________________\n",
            "dense_1 (Dense)              (None, 1)                 513       \n",
            "=================================================================\n",
            "Total params: 3,453,121\n",
            "Trainable params: 3,453,121\n",
            "Non-trainable params: 0\n",
            "_________________________________________________________________\n"
          ],
          "name": "stdout"
        }
      ]
    },
    {
      "cell_type": "code",
      "metadata": {
        "id": "oOlus8ynDKIE",
        "colab": {
          "base_uri": "https://localhost:8080/"
        },
        "outputId": "59ab86ff-4244-491e-87ef-1c35f592fb1c"
      },
      "source": [
        "#it contains train_data_gen array values with encoded output\n",
        "sample_train, _ = next(train_data_gen)"
      ],
      "execution_count": 11,
      "outputs": [
        {
          "output_type": "stream",
          "text": [
            "/usr/local/lib/python3.6/dist-packages/keras_preprocessing/image/image_data_generator.py:720: UserWarning: This ImageDataGenerator specifies `featurewise_center`, but it hasn't been fit on any training data. Fit it first by calling `.fit(numpy_data)`.\n",
            "  warnings.warn('This ImageDataGenerator specifies '\n"
          ],
          "name": "stderr"
        }
      ]
    },
    {
      "cell_type": "code",
      "metadata": {
        "id": "K3bzzE7HItuD"
      },
      "source": [
        "#sample_train,_"
      ],
      "execution_count": 12,
      "outputs": []
    },
    {
      "cell_type": "code",
      "metadata": {
        "id": "bJE1oinHIzpD"
      },
      "source": [
        "model.compile(loss=\"binary_crossentropy\",optimizer = \"adam\",  metrics=['acc'])"
      ],
      "execution_count": 13,
      "outputs": []
    },
    {
      "cell_type": "code",
      "metadata": {
        "id": "a_5HPoKUMPgn",
        "colab": {
          "base_uri": "https://localhost:8080/",
          "height": 295
        },
        "outputId": "1d53f2a1-d563-40df-d4b2-f8eba6d6d015"
      },
      "source": [
        "def plotimage(image_arr):\n",
        "  fig, axes = plt.subplots(1, 5, figsize=(20, 20))\n",
        "  axes = axes.flatten()\n",
        "  for img, ax in zip(image_arr, axes):\n",
        "    ax.imshow(img)\n",
        "    ax.axis(\"off\")\n",
        "  plt.tight_layout()\n",
        "  plt.show()\n",
        "\n",
        "plotimage(sample_train[:5])"
      ],
      "execution_count": 14,
      "outputs": [
        {
          "output_type": "stream",
          "text": [
            "Clipping input data to the valid range for imshow with RGB data ([0..1] for floats or [0..255] for integers).\n",
            "Clipping input data to the valid range for imshow with RGB data ([0..1] for floats or [0..255] for integers).\n",
            "Clipping input data to the valid range for imshow with RGB data ([0..1] for floats or [0..255] for integers).\n",
            "Clipping input data to the valid range for imshow with RGB data ([0..1] for floats or [0..255] for integers).\n",
            "Clipping input data to the valid range for imshow with RGB data ([0..1] for floats or [0..255] for integers).\n"
          ],
          "name": "stderr"
        },
        {
          "output_type": "display_data",
          "data": {
            "image/png": "[encoded data removed]",
            "text/plain": [
              "<Figure size 1440x1440 with 5 Axes>"
            ]
          },
          "metadata": {
            "tags": [],
            "needs_background": "light"
          }
        }
      ]
    },
    {
      "cell_type": "code",
      "metadata": {
        "id": "reMkrz8lFQD1",
        "colab": {
          "base_uri": "https://localhost:8080/"
        },
        "outputId": "b878cfff-a1f1-48ae-a55c-f9c5f869557a"
      },
      "source": [
        "type(train_data_gen)"
      ],
      "execution_count": 15,
      "outputs": [
        {
          "output_type": "execute_result",
          "data": {
            "text/plain": [
              "tensorflow.python.keras.preprocessing.image.DirectoryIterator"
            ]
          },
          "metadata": {
            "tags": []
          },
          "execution_count": 15
        }
      ]
    },
    {
      "cell_type": "code",
      "metadata": {
        "id": "sSFRQd8Lt4PQ",
        "colab": {
          "base_uri": "https://localhost:8080/"
        },
        "outputId": "12934f06-f69d-4608-d9ab-f219221dc04b"
      },
      "source": [
        "\n",
        "history = model.fit_generator(train_data_gen, steps_per_epoch=100, epochs=30, validation_data=validation_data_gen, validation_steps=50)\n",
        "model.save('cats_and_dogs.h5')"
      ],
      "execution_count": 16,
      "outputs": [
        {
          "output_type": "stream",
          "text": [
            "/usr/local/lib/python3.6/dist-packages/tensorflow/python/keras/engine/training.py:1844: UserWarning: `Model.fit_generator` is deprecated and will be removed in a future version. Please use `Model.fit`, which supports generators.\n",
            "  warnings.warn('`Model.fit_generator` is deprecated and '\n",
            "/usr/local/lib/python3.6/dist-packages/keras_preprocessing/image/image_data_generator.py:720: UserWarning: This ImageDataGenerator specifies `featurewise_center`, but it hasn't been fit on any training data. Fit it first by calling `.fit(numpy_data)`.\n",
            "  warnings.warn('This ImageDataGenerator specifies '\n"
          ],
          "name": "stderr"
        },
        {
          "output_type": "stream",
          "text": [
            "Epoch 1/30\n",
            "100/100 [==============================] - 15s 81ms/step - loss: 13.0504 - acc: 0.5195 - val_loss: 0.6729 - val_acc: 0.6050\n",
            "Epoch 2/30\n",
            "100/100 [==============================] - 8s 78ms/step - loss: 0.6647 - acc: 0.6068 - val_loss: 0.6847 - val_acc: 0.5670\n",
            "Epoch 3/30\n",
            "100/100 [==============================] - 8s 77ms/step - loss: 0.6536 - acc: 0.6268 - val_loss: 0.6649 - val_acc: 0.6080\n",
            "Epoch 4/30\n",
            "100/100 [==============================] - 8s 77ms/step - loss: 0.6607 - acc: 0.6242 - val_loss: 0.6666 - val_acc: 0.5990\n",
            "Epoch 5/30\n",
            "100/100 [==============================] - 8s 77ms/step - loss: 0.6074 - acc: 0.6620 - val_loss: 0.6582 - val_acc: 0.6290\n",
            "Epoch 6/30\n",
            "100/100 [==============================] - 8s 77ms/step - loss: 0.5331 - acc: 0.7195 - val_loss: 0.7026 - val_acc: 0.6400\n",
            "Epoch 7/30\n",
            "100/100 [==============================] - 8s 77ms/step - loss: 0.5087 - acc: 0.7351 - val_loss: 0.6797 - val_acc: 0.6350\n",
            "Epoch 8/30\n",
            "100/100 [==============================] - 8s 77ms/step - loss: 0.4402 - acc: 0.7855 - val_loss: 0.7188 - val_acc: 0.6390\n",
            "Epoch 9/30\n",
            "100/100 [==============================] - 8s 76ms/step - loss: 0.4161 - acc: 0.8095 - val_loss: 0.8392 - val_acc: 0.6570\n",
            "Epoch 10/30\n",
            "100/100 [==============================] - 8s 76ms/step - loss: 0.3845 - acc: 0.8069 - val_loss: 0.7649 - val_acc: 0.6280\n",
            "Epoch 11/30\n",
            "100/100 [==============================] - 8s 77ms/step - loss: 0.3934 - acc: 0.8031 - val_loss: 0.9248 - val_acc: 0.6390\n",
            "Epoch 12/30\n",
            "100/100 [==============================] - 8s 78ms/step - loss: 0.3797 - acc: 0.8271 - val_loss: 0.9770 - val_acc: 0.6380\n",
            "Epoch 13/30\n",
            "100/100 [==============================] - 8s 77ms/step - loss: 0.3188 - acc: 0.8552 - val_loss: 0.9622 - val_acc: 0.6520\n",
            "Epoch 14/30\n",
            "100/100 [==============================] - 8s 77ms/step - loss: 0.2559 - acc: 0.8878 - val_loss: 1.0674 - val_acc: 0.6610\n",
            "Epoch 15/30\n",
            "100/100 [==============================] - 8s 77ms/step - loss: 0.2060 - acc: 0.9135 - val_loss: 1.3571 - val_acc: 0.6410\n",
            "Epoch 16/30\n",
            "100/100 [==============================] - 8s 77ms/step - loss: 0.1700 - acc: 0.9319 - val_loss: 1.5351 - val_acc: 0.6430\n",
            "Epoch 17/30\n",
            "100/100 [==============================] - 8s 76ms/step - loss: 0.2533 - acc: 0.8927 - val_loss: 1.2308 - val_acc: 0.6370\n",
            "Epoch 18/30\n",
            "100/100 [==============================] - 8s 77ms/step - loss: 0.2618 - acc: 0.8898 - val_loss: 1.3467 - val_acc: 0.6580\n",
            "Epoch 19/30\n",
            "100/100 [==============================] - 8s 77ms/step - loss: 0.1454 - acc: 0.9404 - val_loss: 1.5143 - val_acc: 0.6550\n",
            "Epoch 20/30\n",
            "100/100 [==============================] - 8s 77ms/step - loss: 0.1169 - acc: 0.9525 - val_loss: 1.5720 - val_acc: 0.6420\n",
            "Epoch 21/30\n",
            "100/100 [==============================] - 8s 77ms/step - loss: 0.1209 - acc: 0.9556 - val_loss: 1.9586 - val_acc: 0.6420\n",
            "Epoch 22/30\n",
            "100/100 [==============================] - 8s 77ms/step - loss: 0.1671 - acc: 0.9353 - val_loss: 1.5716 - val_acc: 0.6410\n",
            "Epoch 23/30\n",
            "100/100 [==============================] - 8s 78ms/step - loss: 0.1133 - acc: 0.9571 - val_loss: 1.5189 - val_acc: 0.6450\n",
            "Epoch 24/30\n",
            "100/100 [==============================] - 8s 77ms/step - loss: 0.0699 - acc: 0.9763 - val_loss: 1.9019 - val_acc: 0.6470\n",
            "Epoch 25/30\n",
            "100/100 [==============================] - 8s 77ms/step - loss: 0.0609 - acc: 0.9797 - val_loss: 1.6591 - val_acc: 0.6190\n",
            "Epoch 26/30\n",
            "100/100 [==============================] - 8s 77ms/step - loss: 0.0888 - acc: 0.9726 - val_loss: 1.8817 - val_acc: 0.6280\n",
            "Epoch 27/30\n",
            "100/100 [==============================] - 8s 77ms/step - loss: 0.1627 - acc: 0.9438 - val_loss: 1.3421 - val_acc: 0.6210\n",
            "Epoch 28/30\n",
            "100/100 [==============================] - 8s 77ms/step - loss: 0.1571 - acc: 0.9328 - val_loss: 1.6782 - val_acc: 0.6500\n",
            "Epoch 29/30\n",
            "100/100 [==============================] - 8s 78ms/step - loss: 0.0719 - acc: 0.9727 - val_loss: 2.0227 - val_acc: 0.6620\n",
            "Epoch 30/30\n",
            "100/100 [==============================] - 8s 78ms/step - loss: 0.0633 - acc: 0.9753 - val_loss: 1.7272 - val_acc: 0.6200\n"
          ],
          "name": "stdout"
        }
      ]
    },
    {
      "cell_type": "code",
      "metadata": {
        "id": "T6NtlsaswdTR"
      },
      "source": [
        "summary=history.history"
      ],
      "execution_count": 17,
      "outputs": []
    },
    {
      "cell_type": "code",
      "metadata": {
        "id": "oJR1sv9p8jjG",
        "colab": {
          "base_uri": "https://localhost:8080/"
        },
        "outputId": "acd09e02-259d-46fd-8a1f-32964aea0ec0"
      },
      "source": [
        "summary.keys()"
      ],
      "execution_count": 18,
      "outputs": [
        {
          "output_type": "execute_result",
          "data": {
            "text/plain": [
              "dict_keys(['loss', 'acc', 'val_loss', 'val_acc'])"
            ]
          },
          "metadata": {
            "tags": []
          },
          "execution_count": 18
        }
      ]
    },
    {
      "cell_type": "code",
      "metadata": {
        "id": "pdsQsp768pe_",
        "colab": {
          "base_uri": "https://localhost:8080/",
          "height": 295
        },
        "outputId": "cff6cc4d-7d72-42dc-fe54-225932e84c53"
      },
      "source": [
        "loss = summary['loss']\n",
        "val_loss = summary['val_loss']\n",
        "epochs = range(1, 31)\n",
        "plt.plot(epochs, loss, 'bo', label=\"Training Loss\")\n",
        "plt.plot(epochs, val_loss, 'r', label=\"validation loss\")\n",
        "plt.title(\"Training & Validation Loss\")\n",
        "plt.xlabel(\"epochs\")\n",
        "plt.ylabel(\"loss\")\n",
        "plt.legend()\n",
        "plt.show()"
      ],
      "execution_count": 19,
      "outputs": [
        {
          "output_type": "display_data",
          "data": {
            "image/png": "[encoded data removed]",
            "text/plain": [
              "<Figure size 432x288 with 1 Axes>"
            ]
          },
          "metadata": {
            "tags": [],
            "needs_background": "light"
          }
        }
      ]
    },
    {
      "cell_type": "code",
      "metadata": {
        "id": "uKx10H4w9wY1",
        "colab": {
          "base_uri": "https://localhost:8080/",
          "height": 295
        },
        "outputId": "69065782-6d5b-4bba-d17a-37873c3ab64a"
      },
      "source": [
        "accuracy = summary['acc']\n",
        "val_accuracy = summary['val_acc']\n",
        "epochs = range(1, 31)\n",
        "plt.plot(epochs, accuracy, 'bo', label=\"Training Accuracy\")\n",
        "plt.plot(epochs, val_accuracy, 'r', label=\"validation Accuracy\")\n",
        "plt.title(\"Training & Validation Accuracy\")\n",
        "plt.xlabel(\"epochs\")\n",
        "plt.ylabel(\"Accuracy\")\n",
        "plt.legend()\n",
        "plt.show()"
      ],
      "execution_count": 20,
      "outputs": [
        {
          "output_type": "display_data",
          "data": {
            "image/png": "[encoded data removed]",
            "text/plain": [
              "<Figure size 432x288 with 1 Axes>"
            ]
          },
          "metadata": {
            "tags": [],
            "needs_background": "light"
          }
        }
      ]
    },
    {
      "cell_type": "code",
      "metadata": {
        "id": "glZyKNwt-Thq",
        "colab": {
          "base_uri": "https://localhost:8080/"
        },
        "outputId": "1d2510f8-5cb3-4fba-e60c-16108b9e7666"
      },
      "source": [
        "model.evaluate(validation_data_gen)"
      ],
      "execution_count": 21,
      "outputs": [
        {
          "output_type": "stream",
          "text": [
            "\r 1/50 [..............................] - ETA: 3s - loss: 0.7627 - acc: 0.8500"
          ],
          "name": "stdout"
        },
        {
          "output_type": "stream",
          "text": [
            "/usr/local/lib/python3.6/dist-packages/keras_preprocessing/image/image_data_generator.py:720: UserWarning: This ImageDataGenerator specifies `featurewise_center`, but it hasn't been fit on any training data. Fit it first by calling `.fit(numpy_data)`.\n",
            "  warnings.warn('This ImageDataGenerator specifies '\n"
          ],
          "name": "stderr"
        },
        {
          "output_type": "stream",
          "text": [
            "50/50 [==============================] - 3s 51ms/step - loss: 1.7272 - acc: 0.6200\n"
          ],
          "name": "stdout"
        },
        {
          "output_type": "execute_result",
          "data": {
            "text/plain": [
              "[1.7272073030471802, 0.6200000047683716]"
            ]
          },
          "metadata": {
            "tags": []
          },
          "execution_count": 21
        }
      ]
    },
    {
      "cell_type": "markdown",
      "metadata": {
        "id": "Ps-iy8Wt-BbJ"
      },
      "source": [
        "**Model1**"
      ]
    },
    {
      "cell_type": "code",
      "metadata": {
        "id": "5_5_4lrk8op4"
      },
      "source": [
        "#appling image generators\r\n",
        "datagen = ImageDataGenerator(rotation_range=40, width_shift_range=0.2, shear_range=0.2, horizontal_flip=True)"
      ],
      "execution_count": 22,
      "outputs": []
    },
    {
      "cell_type": "code",
      "metadata": {
        "id": "E9nnMcwU8UXG",
        "colab": {
          "base_uri": "https://localhost:8080/"
        },
        "outputId": "aaac282f-9a23-4f9f-e47d-be637b414db8"
      },
      "source": [
        "train_data_gen1 = datagen.flow_from_directory(batch_size=batch_size, directory = train_dir,\n",
        "                                                           shuffle = True, target_size =(img_height, img_width), class_mode = 'binary')\n",
        "\n",
        "validation_data_gen1 = validation_image_generator.flow_from_directory(batch_size=batch_size, directory = validation_dir,\n",
        "                                                                     shuffle = True, target_size = (img_height, img_width), class_mode = 'binary')"
      ],
      "execution_count": 23,
      "outputs": [
        {
          "output_type": "stream",
          "text": [
            "Found 2000 images belonging to 2 classes.\n",
            "Found 1000 images belonging to 2 classes.\n"
          ],
          "name": "stdout"
        }
      ]
    },
    {
      "cell_type": "code",
      "metadata": {
        "id": "nEVBXIrL8y1V"
      },
      "source": [
        "model1 = Sequential()\n",
        "model1.add(layers.Conv2D(32,(3, 3), activation=\"relu\", input_shape = (150, 150, 3)))\n",
        "model1.add(layers.MaxPooling2D(2, 2))\n",
        "model1.add(layers.Conv2D(64, (3, 3), activation=\"relu\"))\n",
        "model1.add(layers.MaxPooling2D(2, 2))\n",
        "model1.add(layers.Conv2D(128, (3,3), activation=\"relu\"))\n",
        "model1.add(layers.MaxPooling2D(2, 2))\n",
        "model1.add(layers.Conv2D(128, (3, 3), activation=\"relu\"))\n",
        "model1.add(layers.MaxPooling2D(2, 2))\n",
        "model1.add(layers.Flatten())\n",
        "model1.add(layers.Dropout(.5))\n",
        "model1.add(layers.Dense(512, activation=\"relu\"))\n",
        "model1.add(layers.Dense(1, activation=\"sigmoid\"))"
      ],
      "execution_count": 24,
      "outputs": []
    },
    {
      "cell_type": "code",
      "metadata": {
        "id": "-5I0QNjy9Zan",
        "colab": {
          "base_uri": "https://localhost:8080/"
        },
        "outputId": "27e99f41-8b70-46ad-923f-9c39e3ecf8ea"
      },
      "source": [
        "model1.summary()"
      ],
      "execution_count": 25,
      "outputs": [
        {
          "output_type": "stream",
          "text": [
            "Model: \"sequential_1\"\n",
            "_________________________________________________________________\n",
            "Layer (type)                 Output Shape              Param #   \n",
            "=================================================================\n",
            "conv2d_4 (Conv2D)            (None, 148, 148, 32)      896       \n",
            "_________________________________________________________________\n",
            "max_pooling2d_4 (MaxPooling2 (None, 74, 74, 32)        0         \n",
            "_________________________________________________________________\n",
            "conv2d_5 (Conv2D)            (None, 72, 72, 64)        18496     \n",
            "_________________________________________________________________\n",
            "max_pooling2d_5 (MaxPooling2 (None, 36, 36, 64)        0         \n",
            "_________________________________________________________________\n",
            "conv2d_6 (Conv2D)            (None, 34, 34, 128)       73856     \n",
            "_________________________________________________________________\n",
            "max_pooling2d_6 (MaxPooling2 (None, 17, 17, 128)       0         \n",
            "_________________________________________________________________\n",
            "conv2d_7 (Conv2D)            (None, 15, 15, 128)       147584    \n",
            "_________________________________________________________________\n",
            "max_pooling2d_7 (MaxPooling2 (None, 7, 7, 128)         0         \n",
            "_________________________________________________________________\n",
            "flatten_1 (Flatten)          (None, 6272)              0         \n",
            "_________________________________________________________________\n",
            "dropout (Dropout)            (None, 6272)              0         \n",
            "_________________________________________________________________\n",
            "dense_2 (Dense)              (None, 512)               3211776   \n",
            "_________________________________________________________________\n",
            "dense_3 (Dense)              (None, 1)                 513       \n",
            "=================================================================\n",
            "Total params: 3,453,121\n",
            "Trainable params: 3,453,121\n",
            "Non-trainable params: 0\n",
            "_________________________________________________________________\n"
          ],
          "name": "stdout"
        }
      ]
    },
    {
      "cell_type": "code",
      "metadata": {
        "id": "kT659XVC9ePy"
      },
      "source": [
        "model1.compile(loss=\"binary_crossentropy\",optimizer = \"adam\",  metrics=['acc'])"
      ],
      "execution_count": 26,
      "outputs": []
    },
    {
      "cell_type": "code",
      "metadata": {
        "id": "zs7E3iC_9rzw",
        "colab": {
          "base_uri": "https://localhost:8080/"
        },
        "outputId": "a105d683-6ebf-48b7-9959-62044bc621b7"
      },
      "source": [
        "\n",
        "history1 = model1.fit_generator(train_data_gen1, steps_per_epoch=100, epochs=30, validation_data=validation_data_gen, validation_steps=50)\n",
        "model.save('cats_and_dogs.h5')"
      ],
      "execution_count": 27,
      "outputs": [
        {
          "output_type": "stream",
          "text": [
            "Epoch 1/30\n"
          ],
          "name": "stdout"
        },
        {
          "output_type": "stream",
          "text": [
            "/usr/local/lib/python3.6/dist-packages/tensorflow/python/keras/engine/training.py:1844: UserWarning: `Model.fit_generator` is deprecated and will be removed in a future version. Please use `Model.fit`, which supports generators.\n",
            "  warnings.warn('`Model.fit_generator` is deprecated and '\n"
          ],
          "name": "stderr"
        },
        {
          "output_type": "stream",
          "text": [
            "100/100 [==============================] - ETA: 0s - loss: 9.9672 - acc: 0.5090 "
          ],
          "name": "stdout"
        },
        {
          "output_type": "stream",
          "text": [
            "/usr/local/lib/python3.6/dist-packages/keras_preprocessing/image/image_data_generator.py:720: UserWarning: This ImageDataGenerator specifies `featurewise_center`, but it hasn't been fit on any training data. Fit it first by calling `.fit(numpy_data)`.\n",
            "  warnings.warn('This ImageDataGenerator specifies '\n"
          ],
          "name": "stderr"
        },
        {
          "output_type": "stream",
          "text": [
            "100/100 [==============================] - 16s 159ms/step - loss: 9.8987 - acc: 0.5088 - val_loss: 0.7066 - val_acc: 0.5060\n",
            "Epoch 2/30\n",
            "100/100 [==============================] - 16s 159ms/step - loss: 0.6943 - acc: 0.5196 - val_loss: 0.6915 - val_acc: 0.5130\n",
            "Epoch 3/30\n",
            "100/100 [==============================] - 16s 158ms/step - loss: 0.6888 - acc: 0.5193 - val_loss: 0.6854 - val_acc: 0.5470\n",
            "Epoch 4/30\n",
            "100/100 [==============================] - 16s 158ms/step - loss: 0.6928 - acc: 0.5133 - val_loss: 0.6909 - val_acc: 0.5240\n",
            "Epoch 5/30\n",
            "100/100 [==============================] - 16s 157ms/step - loss: 0.6941 - acc: 0.5154 - val_loss: 0.6876 - val_acc: 0.5540\n",
            "Epoch 6/30\n",
            "100/100 [==============================] - 16s 157ms/step - loss: 0.6886 - acc: 0.5500 - val_loss: 0.6893 - val_acc: 0.5280\n",
            "Epoch 7/30\n",
            "100/100 [==============================] - 16s 158ms/step - loss: 0.6883 - acc: 0.5456 - val_loss: 0.6904 - val_acc: 0.5170\n",
            "Epoch 8/30\n",
            "100/100 [==============================] - 16s 157ms/step - loss: 0.6964 - acc: 0.5147 - val_loss: 0.6921 - val_acc: 0.5190\n",
            "Epoch 9/30\n",
            "100/100 [==============================] - 16s 156ms/step - loss: 0.6901 - acc: 0.4856 - val_loss: 0.6877 - val_acc: 0.5400\n",
            "Epoch 10/30\n",
            "100/100 [==============================] - 16s 157ms/step - loss: 0.6910 - acc: 0.5275 - val_loss: 0.6931 - val_acc: 0.5130\n",
            "Epoch 11/30\n",
            "100/100 [==============================] - 16s 157ms/step - loss: 0.6939 - acc: 0.5251 - val_loss: 0.6928 - val_acc: 0.5230\n",
            "Epoch 12/30\n",
            "100/100 [==============================] - 16s 158ms/step - loss: 0.7264 - acc: 0.5280 - val_loss: 0.7020 - val_acc: 0.4740\n",
            "Epoch 13/30\n",
            "100/100 [==============================] - 16s 157ms/step - loss: 0.6994 - acc: 0.5144 - val_loss: 0.6914 - val_acc: 0.5140\n",
            "Epoch 14/30\n",
            "100/100 [==============================] - 16s 156ms/step - loss: 0.6946 - acc: 0.5286 - val_loss: 0.6912 - val_acc: 0.5120\n",
            "Epoch 15/30\n",
            "100/100 [==============================] - 16s 157ms/step - loss: 0.6909 - acc: 0.5218 - val_loss: 0.6931 - val_acc: 0.5030\n",
            "Epoch 16/30\n",
            "100/100 [==============================] - 16s 156ms/step - loss: 0.6919 - acc: 0.5163 - val_loss: 0.6912 - val_acc: 0.5240\n",
            "Epoch 17/30\n",
            "100/100 [==============================] - 16s 158ms/step - loss: 0.6928 - acc: 0.5194 - val_loss: 0.6922 - val_acc: 0.5180\n",
            "Epoch 18/30\n",
            "100/100 [==============================] - 16s 157ms/step - loss: 0.6915 - acc: 0.4943 - val_loss: 0.6933 - val_acc: 0.5050\n",
            "Epoch 19/30\n",
            "100/100 [==============================] - 16s 158ms/step - loss: 0.6939 - acc: 0.5202 - val_loss: 0.6930 - val_acc: 0.5080\n",
            "Epoch 20/30\n",
            "100/100 [==============================] - 16s 159ms/step - loss: 0.6932 - acc: 0.5121 - val_loss: 0.6908 - val_acc: 0.5120\n",
            "Epoch 21/30\n",
            "100/100 [==============================] - 16s 157ms/step - loss: 0.6912 - acc: 0.4809 - val_loss: 0.6941 - val_acc: 0.5200\n",
            "Epoch 22/30\n",
            "100/100 [==============================] - 16s 159ms/step - loss: 0.6966 - acc: 0.4952 - val_loss: 0.6922 - val_acc: 0.5180\n",
            "Epoch 23/30\n",
            "100/100 [==============================] - 16s 157ms/step - loss: 0.6869 - acc: 0.5214 - val_loss: 0.6883 - val_acc: 0.5420\n",
            "Epoch 24/30\n",
            "100/100 [==============================] - 16s 157ms/step - loss: 0.6880 - acc: 0.5219 - val_loss: 0.6977 - val_acc: 0.5140\n",
            "Epoch 25/30\n",
            "100/100 [==============================] - 16s 157ms/step - loss: 0.6934 - acc: 0.5401 - val_loss: 0.6926 - val_acc: 0.5090\n",
            "Epoch 26/30\n",
            "100/100 [==============================] - 16s 156ms/step - loss: 0.6952 - acc: 0.4891 - val_loss: 0.6916 - val_acc: 0.5110\n",
            "Epoch 27/30\n",
            "100/100 [==============================] - 16s 159ms/step - loss: 0.6905 - acc: 0.4845 - val_loss: 0.6890 - val_acc: 0.5290\n",
            "Epoch 28/30\n",
            "100/100 [==============================] - 16s 157ms/step - loss: 0.6952 - acc: 0.5013 - val_loss: 0.6906 - val_acc: 0.5160\n",
            "Epoch 29/30\n",
            "100/100 [==============================] - 16s 157ms/step - loss: 0.6917 - acc: 0.5086 - val_loss: 0.6918 - val_acc: 0.5610\n",
            "Epoch 30/30\n",
            "100/100 [==============================] - 16s 157ms/step - loss: 0.7161 - acc: 0.5086 - val_loss: 0.6891 - val_acc: 0.5290\n"
          ],
          "name": "stdout"
        }
      ]
    },
    {
      "cell_type": "code",
      "metadata": {
        "id": "Vuw5AB-x97tU"
      },
      "source": [
        "summary1=history1.history"
      ],
      "execution_count": 28,
      "outputs": []
    },
    {
      "cell_type": "code",
      "metadata": {
        "id": "7aXT6t0-LK2y",
        "colab": {
          "base_uri": "https://localhost:8080/"
        },
        "outputId": "5d17f91c-afde-41fa-e714-f945abddd3a2"
      },
      "source": [
        "summary1.keys()"
      ],
      "execution_count": 29,
      "outputs": [
        {
          "output_type": "execute_result",
          "data": {
            "text/plain": [
              "dict_keys(['loss', 'acc', 'val_loss', 'val_acc'])"
            ]
          },
          "metadata": {
            "tags": []
          },
          "execution_count": 29
        }
      ]
    },
    {
      "cell_type": "code",
      "metadata": {
        "id": "LR6rOPLdLS9k",
        "colab": {
          "base_uri": "https://localhost:8080/",
          "height": 295
        },
        "outputId": "f5d96d71-6cbe-46a9-db9f-d9bda178962f"
      },
      "source": [
        "loss = summary1['loss']\n",
        "val_loss = summary1['val_loss']\n",
        "epochs = range(1, 31)\n",
        "plt.plot(epochs, loss, 'bo', label=\"Training Loss\")\n",
        "plt.plot(epochs, val_loss, 'r', label=\"validation loss\")\n",
        "plt.title(\"Training & Validation Loss\")\n",
        "plt.xlabel(\"epochs\")\n",
        "plt.ylabel(\"loss\")\n",
        "plt.legend()\n",
        "plt.show()"
      ],
      "execution_count": 30,
      "outputs": [
        {
          "output_type": "display_data",
          "data": {
            "image/png": "[encoded data removed]",
            "text/plain": [
              "<Figure size 432x288 with 1 Axes>"
            ]
          },
          "metadata": {
            "tags": [],
            "needs_background": "light"
          }
        }
      ]
    },
    {
      "cell_type": "code",
      "metadata": {
        "id": "zZ3xh10oLoEk",
        "colab": {
          "base_uri": "https://localhost:8080/"
        },
        "outputId": "7bfc892c-331b-4206-dacb-740fb89fc310"
      },
      "source": [
        "model1.evaluate(validation_data_gen1)"
      ],
      "execution_count": 31,
      "outputs": [
        {
          "output_type": "stream",
          "text": [
            " 2/50 [>.............................] - ETA: 2s - loss: 0.6800 - acc: 0.6000"
          ],
          "name": "stdout"
        },
        {
          "output_type": "stream",
          "text": [
            "/usr/local/lib/python3.6/dist-packages/keras_preprocessing/image/image_data_generator.py:720: UserWarning: This ImageDataGenerator specifies `featurewise_center`, but it hasn't been fit on any training data. Fit it first by calling `.fit(numpy_data)`.\n",
            "  warnings.warn('This ImageDataGenerator specifies '\n"
          ],
          "name": "stderr"
        },
        {
          "output_type": "stream",
          "text": [
            "50/50 [==============================] - 3s 51ms/step - loss: 0.6891 - acc: 0.5290\n"
          ],
          "name": "stdout"
        },
        {
          "output_type": "execute_result",
          "data": {
            "text/plain": [
              "[0.6890601515769958, 0.5289999842643738]"
            ]
          },
          "metadata": {
            "tags": []
          },
          "execution_count": 31
        }
      ]
    },
    {
      "cell_type": "code",
      "metadata": {
        "id": "glAoVkbzLuQ3"
      },
      "source": [
        "\n",
        "\n",
        "\n",
        "\n",
        "\n",
        "\n",
        "\n",
        "\n",
        "\n",
        "\n",
        "\n",
        "\n",
        "\n",
        "\n",
        "\n",
        "\n",
        "\n",
        "\n",
        "\n",
        "\n",
        "\n",
        "\n",
        "\n",
        "\n",
        "\n",
        "\n",
        "\n",
        "\n",
        "\n",
        "\n",
        "\n",
        "\n",
        "\n",
        "\n",
        "\n",
        "\n",
        "\n",
        "\n",
        "\n",
        "\n",
        "\n",
        "\n",
        "\n",
        "\n",
        "\n",
        "\n",
        "\n",
        "\n",
        "\n",
        "\n",
        "\n",
        "\n",
        "\n",
        "\n",
        "\n",
        "\n",
        "\n",
        "\n",
        "\n",
        "\n",
        "\n",
        "\n",
        "\n",
        "\n",
        "\n",
        "\n",
        "\n",
        "\n",
        "\n",
        "\n",
        "\n",
        "\n",
        "\n",
        "\n",
        "\n",
        "\n",
        "\n",
        "\n",
        "\n",
        "\n",
        "\n",
        "\n"
      ],
      "execution_count": 31,
      "outputs": []
    }
  ]
}